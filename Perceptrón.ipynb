{
 "cells": [
  {
   "cell_type": "markdown",
   "id": "949aa944-30b7-4e87-a91a-82a1486825ed",
   "metadata": {},
   "source": [
    "<h1>Perceptrón</h1>"
   ]
  },
  {
   "cell_type": "code",
   "execution_count": 1,
   "id": "565abf91-18d1-4102-9d95-55fd73918ba5",
   "metadata": {},
   "outputs": [],
   "source": [
    "import numpy as np\n",
    "\n",
    "def hardlim(x):\n",
    "    return np.where(x >= 0, 1, 0)\n",
    "\n",
    "def neurona(X, w, b):\n",
    "    return hardlim(np.dot(X, w) + b)\n",
    "\n",
    "def test_perceptron(X, w, b):\n",
    "    yp = np.zeros(X.shape[0])\n",
    "    for i in range(X.shape[0]):\n",
    "        yp[i] = neurona(X[i], w, b)\n",
    "    return yp\n",
    "\n",
    "def train_perceptron(X, y):\n",
    "    w = np.array([1.0, -0.8])\n",
    "    b = 0\n",
    "    \n",
    "    yp = test_perceptron(X, w, b)\n",
    "    \n",
    "    while not np.array_equal(yp, y):\n",
    "        yp = test_perceptron(X, w, b)\n",
    "        if not np.array_equal(yp, y):\n",
    "            diff = y - yp\n",
    "            indices = np.where(diff != 0)[0]\n",
    "            yp_s = yp[indices]\n",
    "            y_s = y[indices]\n",
    "            X_s = X[indices]\n",
    "            \n",
    "            w = w + (y_s[0] - yp_s[0]) * X_s[0]\n",
    "            b = b + (y_s[0] - yp_s[0])\n",
    "            \n",
    "        yp = test_perceptron(X, w, b)\n",
    "\n",
    "    return w, b, yp"
   ]
  },
  {
   "cell_type": "code",
   "execution_count": 2,
   "id": "7cb5e15b-0a96-42b9-80e2-71d57843d074",
   "metadata": {},
   "outputs": [],
   "source": [
    "import matplotlib.pyplot as plt\n",
    "\n",
    "# Definición de los datos de entrenamiento\n",
    "X = np.array([[1, -1, 0], [2, 2, -1]]).T\n",
    "Y = np.array([1, 0, 0])\n",
    "\n",
    "# Entrenamiento del perceptrón\n",
    "w, b, _ = train_perceptron(X, Y)"
   ]
  },
  {
   "cell_type": "code",
   "execution_count": 3,
   "id": "d39340e3-4bff-49f6-9c76-64cfa01ca590",
   "metadata": {},
   "outputs": [
    {
     "data": {
      "image/png": "[encoded data removed]",
      "text/plain": [
       "<Figure size 640x480 with 1 Axes>"
      ]
     },
     "metadata": {},
     "output_type": "display_data"
    }
   ],
   "source": [
    "# Preparación de datos para la visualización\n",
    "x_min, x_max = X[:, 0].min() - 1, X[:, 0].max() + 1\n",
    "y_min, y_max = X[:, 1].min() - 1, X[:, 1].max() + 1\n",
    "xx, yy = np.meshgrid(np.arange(x_min, x_max, 0.01),\n",
    "                     np.arange(y_min, y_max, 0.01))\n",
    "\n",
    "# Predicciones para cada punto en la malla\n",
    "Z = neurona(np.c_[xx.ravel(), yy.ravel()], w, b)\n",
    "Z = Z.reshape(xx.shape)\n",
    "\n",
    "# Crear gráfico\n",
    "plt.contourf(xx, yy, Z, alpha=0.8)\n",
    "plt.scatter(X[:, 0], X[:, 1], c=Y, edgecolors='g')\n",
    "plt.xlabel('X1')\n",
    "plt.ylabel('X2')\n",
    "plt.title('Perceptrón - Límite de Decisión')\n",
    "\n",
    "# Línea del límite de decisión\n",
    "slope = -w[0]/w[1]\n",
    "intercept = -b/w[1]\n",
    "plt.axline(xy1=(0, intercept), slope=slope, color='red')\n",
    "\n",
    "plt.show()"
   ]
  }
 ],
 "metadata": {
  "kernelspec": {
   "display_name": "Python 3 (ipykernel)",
   "language": "python",
   "name": "python3"
  },
  "language_info": {
   "codemirror_mode": {
    "name": "ipython",
    "version": 3
   },
   "file_extension": ".py",
   "mimetype": "text/x-python",
   "name": "python",
   "nbconvert_exporter": "python",
   "pygments_lexer": "ipython3",
   "version": "3.11.4"
  }
 },
 "nbformat": 4,
 "nbformat_minor": 5
}
